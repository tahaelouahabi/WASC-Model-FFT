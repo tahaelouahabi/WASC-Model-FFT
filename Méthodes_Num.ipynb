{
  "nbformat": 4,
  "nbformat_minor": 0,
  "metadata": {
    "colab": {
      "name": "Méthodes_Num.ipynb",
      "provenance": [],
      "collapsed_sections": []
    },
    "kernelspec": {
      "display_name": "Python 3",
      "name": "python3"
    },
    "language_info": {
      "name": "python"
    }
  },
  "cells": [
    {
      "cell_type": "markdown",
      "metadata": {
        "id": "aYrgJ_Qzhbep"
      },
      "source": [
        "## <h1><center> Projet Méthodes Numériques <h1><center>\n",
        "\n",
        "\n",
        "**Option pricing when correlations are stochastic: an analytical framework**\n",
        "\n",
        "BAUBEAU SALAUN Tiburce, EL OUAHABI Taha-Abderrahman,KACEM Khalil"
      ]
    },
    {
      "cell_type": "code",
      "metadata": {
        "id": "daOXX64rGNUD"
      },
      "source": [
        "###############################################################################\n",
        "################################### Imports ###################################\n",
        "###############################################################################\n",
        "\n",
        "import numpy as np\n",
        "import matplotlib.pyplot as plt\n",
        "from matplotlib.pyplot import figure\n",
        "import pandas as pd\n",
        "from scipy.linalg import expm, logm, cosm\n",
        "import numpy as np\n",
        "import matplotlib.pyplot as plt\n",
        "import seaborn as sns\n",
        "sns.set()\n",
        "import pandas as pd\n",
        "from scipy.linalg import expm, logm, cosm\n",
        "from scipy.fft import *\n",
        "from scipy.interpolate import InterpolatedUnivariateSpline\n",
        "from scipy.stats import norm\n",
        "import plotly.graph_objects as go\n",
        "import time"
      ],
      "execution_count": null,
      "outputs": []
    },
    {
      "cell_type": "code",
      "metadata": {
        "id": "X1JoK71nhhNL"
      },
      "source": [
        "###############################################################################\n",
        "############################## Class wishart ###############################\n",
        "###############################################################################\n",
        "\n",
        "class wishart(object):\n",
        "  \"\"\"\n",
        "    Objective: Calculates option prices under the WASC framework and FFT\n",
        "\n",
        "    Variables:  - Y (np.array of shape nx1 ): Vector of log spot assets\n",
        "                - r (float): Risk free IR\n",
        "                - beta (float): Gindikin coefficient, model parameter\n",
        "                - M (2-d np.array object of shape nxn): , model parameter\n",
        "                - Q (2-d np.array object of shape nxn): , model parameter\n",
        "                - sigma (2-d np.array object of shape nxn): Initial asset covariance matrix. model parameter \n",
        "                - rho (2-d np.array object of shape nxn): Matrix of correlation between brownian motions, model parameter \n",
        "                - maturity (float): Maturity of the option \n",
        "\n",
        "    Methods:    - __init__: Object constructor initializing the pricing environment.\n",
        "                - create_A_C: Calculates necessary matrices A and c for calclating the characteristic function\n",
        "                - characteristic_: Calculates the general characteristic function\n",
        "                - unidimensional_characteristic: Simplifies the characteristic function for the case of options with payoff depanding on one asset (evaluates for asset 1)\n",
        "                - carr_madan_fft_call_pricer: Returns prices via FFT and Carr-Madan approach \n",
        "                - fft_pricer: return the function of interpolation for calculating option prices\n",
        "  \"\"\"\n",
        "  def __init__(self, Y, r, beta, M, Q, sigma, rho, maturity):\n",
        "\n",
        "    \"\"\"\n",
        "      GOAL: Object constructor initializing the trading environment by setting up\n",
        "            the pricing activity as well as other important variables.\n",
        "\n",
        "      OUTPUTS: /\n",
        "    \"\"\"\n",
        "\n",
        "    self.dimension = len(M) \n",
        "    self.Y = Y\n",
        "    self.r = r\n",
        "    self.beta = beta\n",
        "    self.M = M\n",
        "    self.Q = Q\n",
        "    self.sigma = sigma\n",
        "    self.rho = rho\n",
        "    self.maturity = maturity \n",
        "\n",
        "  def create_A_C(self, Gamma, gamma):\n",
        "\n",
        "    \"\"\"\n",
        "      GOAL: Calculates necessary matrices A and c for calclating the characteristic function\n",
        "\n",
        "      Inputs:   - Gamma (2-d np.array of shape (nxn)): inputs of the charateristic function\n",
        "                - gamma (np.array of shape (nx1)): argument of the charateristic function\n",
        "      \n",
        "      Outputs:  - the value of objects A,c necessary for calculating the characteristic function\n",
        "\n",
        "    \"\"\"\n",
        "    \n",
        "    rho_gamma = np.dot(self.rho, np.transpose(gamma))\n",
        "    bloc1 = self.M + np.dot(np.transpose(self.Q), rho_gamma)\n",
        "\n",
        "    bloc2 = -2*np.dot(np.transpose(self.Q), self.Q)\n",
        "\n",
        "    bloc3 = (1/2) * (np.dot(gamma, np.transpose(gamma)) - np.diag(gamma.reshape(self.dimension)))\n",
        "\n",
        "    bloc4 = -(np.transpose(bloc1)) \n",
        "\n",
        "    full_block = self.maturity * np.block([[bloc1, bloc2], [bloc3, bloc4]])\n",
        "\n",
        "    A_bloc = expm(full_block)\n",
        "\n",
        "\n",
        "    A_bloc11 = A_bloc[:self.dimension, :self.dimension]\n",
        "    A_bloc12 = A_bloc[:self.dimension, self.dimension:]\n",
        "    A_bloc21 = A_bloc[self.dimension:, :self.dimension]\n",
        "    A_bloc22 = A_bloc[self.dimension:, self.dimension:]\n",
        "\n",
        "    part_1 = np.linalg.inv(np.dot(Gamma, A_bloc12) + A_bloc22)\n",
        "    part_2 = np.dot(Gamma, A_bloc11) + A_bloc21\n",
        "\n",
        "    A = np.dot(part_1, part_2)\n",
        "    \n",
        "    c_mat_log = logm(np.dot(Gamma, A_bloc12) + A_bloc22)\n",
        "    c_mat_T = self.maturity*np.transpose(self.M) + np.dot(self.maturity*gamma, np.dot(np.transpose(self.rho), self.Q))\n",
        "    \n",
        "    c_mat =  c_mat_log + c_mat_T\n",
        "\n",
        "    c = -(self.beta/2)*np.trace(c_mat) + self.maturity*self.r*(gamma.sum()-1)\n",
        "\n",
        "    return(A, c)\n",
        "  \n",
        "  def characteristic_(self, Gamma, gamma):\n",
        "\n",
        "    \"\"\"\n",
        "      GOAL: Calculates the value characteristic function evaluated at t=0, Gamma, gamma under given model parameters\n",
        "\n",
        "      Inputs:   - Gamma (2-d np.array of shape (nxn)): inputs of the charateristic function\n",
        "                - gamma (np.array of shape (nx1)): argument of the charateristic function\n",
        "      \n",
        "      Outputs:  - the value of the characteristic function at t=0 and arguments Gamma, gamma\n",
        "\n",
        "    \"\"\"\n",
        "    A, c = self.create_A_C(Gamma, gamma)\n",
        "    \n",
        "    tr = np.trace(np.dot(A, self.sigma)) + np.dot(np.transpose(gamma), self.Y) + c\n",
        "    characteristic_fct = np.exp(-self.r*self.maturity)*np.exp(tr)\n",
        "\n",
        "    return(characteristic_fct[0,0])\n",
        "\n",
        "  def unidimensional_characteristic(self, gamma):\n",
        "    \"\"\"\n",
        "      GOAL: Returns the value of the marginal characteristic function (unidimensional) of asset 1\n",
        "\n",
        "      Inputs:   - gamma (complex number): argument of the charateristic function\n",
        "      \n",
        "      Outputs:  - the value of the marginal characteristic function at t=0 and arguments gamma\n",
        "\n",
        "    \"\"\"\n",
        "\n",
        "    Gamma = np.zeros((self.dimension, self.dimension))\n",
        "    vct_gamma = np.array([1j*gamma, 0]).reshape((2,1))\n",
        "    characteristic_value = self.characteristic_(Gamma, vct_gamma)\n",
        "    \n",
        "    return characteristic_value\n",
        "\n",
        "  def carr_madan_fft_call_pricer(self, N, d_u, alpha, q):\n",
        "\n",
        "    \"\"\"\n",
        "      GOAL: Implementation of Carr Madan approach for calculating vanilla european option price\n",
        "\n",
        "      Inputs:   - N (integer, preferably a power of 2 ): Number of points to be generated in order for the FFT to be calculated\n",
        "                - d_u (float): spacing parameter in the frequency domain \n",
        "                - alpha (float): damping parameter\n",
        "                - q (float): stock dividend generation parameter\n",
        "      Outputs:  - the value of the marginal characteristic function at t=0 and arguments gamma\n",
        "\n",
        "    \"\"\"\n",
        "\n",
        "    d_k = 2 * np.pi / (N * d_u)\n",
        "    beta = self.Y[0] - d_k * N / 2\n",
        "    u_arr = np.arange(N) * d_u\n",
        "    k_arr = beta + np.arange(N) * d_k\n",
        "    delta_arr = np.zeros(N)\n",
        "    delta_arr[0] = 1\n",
        "    w_arr = d_u / 3 * (3 + (-1) ** (np.arange(N) + 1) - delta_arr)\n",
        "    chf_ln_st_array = np.array([self.unidimensional_characteristic(gamma =elt- (alpha + 1) * 1j) for elt in u_arr])\n",
        "    call_chf = (np.exp(-self.r * self.maturity) / ((alpha + 1j * u_arr) * (alpha + 1j * u_arr + 1))) * chf_ln_st_array\n",
        "    x_arr = np.exp(-1j * beta * u_arr) * call_chf * w_arr\n",
        "    fft_prices = (fft(x_arr))\n",
        "    call_prices = (np.exp(-alpha * k_arr) / np.pi) * fft_prices.real\n",
        "    return np.exp(k_arr), call_prices\n",
        "\n",
        "  def fft_pricer(self, N, d_u, alpha, q, order):\n",
        "    \"\"\"\n",
        "      GOAL: Returns the interpolation function for calculating option prices\n",
        "\n",
        "      Inputs:   - N (integer, preferably a power of 2 ): Number of points to be generated in order for the FFT to be calculated\n",
        "                - d_u (float): spacing parameter in the frequency domain \n",
        "                - alpha (float): damping parameter\n",
        "                - q (float): stock dividend generation parameter\n",
        "                - order (float): Degree of the smoothing spline. Must be between [1, 5]. 5 being the most agressive interpolation\n",
        "      Outputs:  - the interpolation function whose argument is the strike value\n",
        "\n",
        "    \"\"\"\n",
        "    strike, call_prices = self.carr_madan_fft_call_pricer(N, d_u, alpha, q)\n",
        "    ffn_pricer = spline_fitting(strike, call_prices, order)\n",
        "\n",
        "    return(ffn_pricer)\n"
      ],
      "execution_count": null,
      "outputs": []
    },
    {
      "cell_type": "code",
      "metadata": {
        "id": "Ul-qgJ4K_d21"
      },
      "source": [
        "#########################\n",
        "### Helper functions ####\n",
        "#########################\n",
        "\n",
        "N = norm.cdf\n",
        "\n",
        "def spline_fitting(x_data, y_data, order):\n",
        "\n",
        "  \"\"\"\n",
        "    GOAL: Interpolates x_data given y_data\n",
        "\n",
        "    Inputs:   - x_data (np.array): data to be interpolated \n",
        "              - y_data (np.array): data to be interpolated to\n",
        "              - order (float): damping parameter\n",
        "    Outputs:  - Value of interpolated x_data given y_data and the order of interpolation\n",
        "\n",
        "  \"\"\"  \n",
        "  return InterpolatedUnivariateSpline(x_data, y_data, k=order)\n",
        "\n",
        "def cd_black_scholes(u, T, r, q,S0, sigma):\n",
        "\n",
        "  \"\"\"\n",
        "    GOAL: Calculates the characteristic function of the log price under the BS dynamics\n",
        "\n",
        "    Inputs:   - BS model parameters\n",
        "    Outputs:  - Value of the characteristic function\n",
        "\n",
        "  \"\"\"  \n",
        "\n",
        "  x0 = np.log(S0)     \n",
        "  inside = 1j * u * x0 + 1j * u * T * (r - (0.5 * (sigma**2))) - 0.5 * T * (u ** 2) * (sigma ** 2)\n",
        "  return np.exp(inside)\n",
        "\n",
        "def bs_call(S, K, T, r, sigma):\n",
        "\n",
        "  \"\"\"\n",
        "    GOAL: Calculates the value of BS call\n",
        "\n",
        "    Inputs:   - BS model parameters\n",
        "    Outputs:  - Value of the BS call\n",
        "\n",
        "  \"\"\"  \n",
        "\n",
        "  d1 = (np.log(S/K) + (r + 0.5*sigma**2)*T) / (sigma*np.sqrt(T))\n",
        "  d2 = d1 - sigma * np.sqrt(T)\n",
        "  return S * norm.cdf(d1) - np.exp(-r * T) * K * norm.cdf(d2)\n",
        "\n",
        "def bs_vega(S, K, T, r, sigma):\n",
        "\n",
        "  \"\"\"\n",
        "    GOAL: Calculates vega of BS call (necessary for calculating implied vol)\n",
        "\n",
        "    Inputs:   - BS model parameters\n",
        "    Outputs:  - Value of the BS vega\n",
        "\n",
        "  \"\"\"  \n",
        "\n",
        "  d1 = (np.log(S / K) + (r + 0.5 * sigma ** 2) * T) / (sigma * np.sqrt(T))\n",
        "  return S * norm.pdf(d1) * np.sqrt(T)\n",
        "\n",
        "def find_vol(target_value, S, K, T, r, *args):\n",
        "\n",
        "  \"\"\"\n",
        "    GOAL: Calculates the implied volatility given option price \n",
        "\n",
        "    Inputs:   - target_value(float): option price\n",
        "              - BS model parameters\n",
        "    Outputs:  - Value of the corresponding BS implied volatility\n",
        "\n",
        "  \"\"\"  \n",
        "\n",
        "  MAX_ITERATIONS = 500\n",
        "  PRECISION = 1.0e-7\n",
        "  sigma = 0.5\n",
        "  for i in range(0, MAX_ITERATIONS):\n",
        "      price = bs_call(S, K, T, r, sigma)\n",
        "      vega = bs_vega(S, K, T, r, sigma)\n",
        "      diff = target_value - price  # our root\n",
        "      if (abs(diff) < PRECISION):\n",
        "          return sigma\n",
        "      sigma = sigma + diff/vega # f(x) / f'(x)\n",
        "  return sigma # value wasn't found, return best guess so far\n",
        "\n",
        "def euro_vanilla_call(S, K, T, r, sigma):\n",
        "\n",
        "  \"\"\"Returns price of european vanilla call option\n",
        "    \n",
        "    Parameters\n",
        "    ------------\n",
        "    \n",
        "    S: Underlying value->float\n",
        "    K: strike price->float\n",
        "    T: Time to maturity-> float\n",
        "    r: Risk free IR->float\n",
        "    sigma: Vol->positive float\n",
        "    \n",
        "    Returns\n",
        "    -----------\n",
        "    Price of european vanilla call option->float\n",
        "    \n",
        "  \"\"\"\n",
        "    \n",
        "  d1 = (np.log(S / K) + (r + 0.5 * sigma ** 2) * T) / (sigma * np.sqrt(T))\n",
        "  d2 = (np.log(S / K) + (r - 0.5 * sigma ** 2) * T) / (sigma * np.sqrt(T))\n",
        "    \n",
        "  call = (S * norm.cdf(d1, 0.0, 1.0) - K * np.exp(-r * T) * norm.cdf(d2, 0.0, 1.0))\n",
        "    \n",
        "  return call"
      ],
      "execution_count": null,
      "outputs": []
    },
    {
      "cell_type": "code",
      "metadata": {
        "id": "7gipJPLgtvWW"
      },
      "source": [
        "M = [-2.5, -1.5, -1.5, -2.5]\n",
        "Q = [0.21, -0.14, 0.14, 0.21]\n",
        "sigma = [0.09, -0.036, -0.036, 0.09]\n",
        "rho = np.array([-0.6, -0.6]).reshape((2,1))\n",
        "\n",
        "M = np.array(M).reshape((2,2))\n",
        "Q = np.array(Q).reshape((2,2))\n",
        "sigma = np.array(sigma).reshape((2,2))\n",
        "\n",
        "r = 0.0\n",
        "Y = np.array([0, 0]).reshape((2,1))\n",
        "\n",
        "beta = 7.14286\n",
        "maturity = 0.2\n",
        "dimension = 2\n",
        "\n",
        "N = 2**12\n",
        "d_u = 0.1\n",
        "alpha = 2\n",
        "q = 0\n",
        "\n",
        "test = wishart(r = r, beta = beta, M = M, Q = Q, sigma = sigma, rho = rho, maturity=maturity, Y=Y)\n",
        "fft_pricer_ = test.fft_pricer(N, d_u, alpha, q, 2)\n"
      ],
      "execution_count": null,
      "outputs": []
    },
    {
      "cell_type": "code",
      "metadata": {
        "id": "Hs9rQhSqWT4c"
      },
      "source": [
        "X = np.arange(0.4, 5, 0.05)\n",
        "Y_WASC = np.array([fft_pricer_(x) for x in X])"
      ],
      "execution_count": null,
      "outputs": []
    },
    {
      "cell_type": "code",
      "metadata": {
        "colab": {
          "base_uri": "https://localhost:8080/",
          "height": 470
        },
        "id": "aUTSWRdnWt9Q",
        "outputId": "f22608df-d5d3-4db4-8feb-1b6d22e892e6"
      },
      "source": [
        "figure(figsize=(8, 6), dpi=80)\n",
        "\n",
        "plt.plot(X,Y_WASC)\n",
        "plt.title('European Call price under WASC dynamics as function of the strike')\n",
        "plt.xlabel('Strike')\n",
        "plt.ylabel('Price')"
      ],
      "execution_count": null,
      "outputs": [
        {
          "output_type": "execute_result",
          "data": {
            "text/plain": [
              "Text(0, 0.5, 'Price')"
            ]
          },
          "metadata": {
            "tags": []
          },
          "execution_count": 93
        },
        {
          "output_type": "display_data",
          "data": {
            "image/png": "[encoded data removed]",
            "text/plain": [
              "<Figure size 640x480 with 1 Axes>"
            ]
          },
          "metadata": {
            "tags": []
          }
        }
      ]
    },
    {
      "cell_type": "code",
      "metadata": {
        "id": "tlJPtTqzkqxT"
      },
      "source": [
        "# Plotting the\n",
        "K = np.arange(0.7, 1.8, 0.05)\n",
        "values = fft_pricer_(K)\n",
        "implied_vol_WASC = [find_vol(values[i], np.exp(0), K[i], maturity, r) for i in range(len(K))]\n"
      ],
      "execution_count": null,
      "outputs": []
    },
    {
      "cell_type": "code",
      "metadata": {
        "colab": {
          "base_uri": "https://localhost:8080/",
          "height": 470
        },
        "id": "koZtopZPkuvK",
        "outputId": "fefa9cc2-2b7c-41ec-e802-11392b6f0f4b"
      },
      "source": [
        "figure(figsize=(8, 6), dpi=80)\n",
        "\n",
        "plt.plot(K, implied_vol_WASC)\n",
        "plt.title('Volatility smile for maturity 0.2 years')\n",
        "plt.xlabel('Strike')\n",
        "plt.ylabel('BS Implied Volatility')"
      ],
      "execution_count": null,
      "outputs": [
        {
          "output_type": "execute_result",
          "data": {
            "text/plain": [
              "Text(0, 0.5, 'BS Implied Volatility')"
            ]
          },
          "metadata": {
            "tags": []
          },
          "execution_count": 95
        },
        {
          "output_type": "display_data",
          "data": {
            "image/png": "[encoded data removed]",
            "text/plain": [
              "<Figure size 640x480 with 1 Axes>"
            ]
          },
          "metadata": {
            "tags": []
          }
        }
      ]
    },
    {
      "cell_type": "code",
      "metadata": {
        "colab": {
          "background_save": true,
          "base_uri": "https://localhost:8080/"
        },
        "id": "ESc1i5Jft-tT",
        "outputId": "4a4b157a-c992-4205-9144-f77a38b8ba72"
      },
      "source": [
        "T_array = np.arange(0.2,1.5,0.1)\n",
        "\n",
        "K = np.arange(0.8, 1.8, 0.05)\n",
        "vol_values = pd.DataFrame([])\n",
        "\n",
        "for maturity in T_array:\n",
        "  \n",
        "  print(maturity)\n",
        "  test = wishart(r = r, beta = beta, M = M, Q = Q, sigma = sigma, rho = rho, maturity=maturity, Y=Y)\n",
        "  fft_pricer_ = test.fft_pricer(N, d_u, alpha, q, 2)\n",
        "  values = fft_pricer_(K)\n",
        "  implied_vol_WASC = [find_vol(values[i], np.exp(0), K[i], maturity, r) for i in range(len(K))]\n",
        "  implied_vol_WASC_df = pd.DataFrame([implied_vol_WASC])\n",
        "  vol_values = pd.concat([vol_values,implied_vol_WASC_df])"
      ],
      "execution_count": null,
      "outputs": [
        {
          "output_type": "stream",
          "text": [
            "0.2\n",
            "0.30000000000000004\n",
            "0.4000000000000001\n",
            "0.5000000000000001\n",
            "0.6000000000000001\n",
            "0.7000000000000002\n",
            "0.8000000000000003\n",
            "0.9000000000000001\n",
            "1.0000000000000002\n",
            "1.1000000000000003\n",
            "1.2000000000000004\n",
            "1.3000000000000003\n",
            "1.4000000000000004\n"
          ],
          "name": "stdout"
        }
      ]
    },
    {
      "cell_type": "code",
      "metadata": {
        "colab": {
          "base_uri": "https://localhost:8080/",
          "height": 452
        },
        "id": "-nZ5ikS6ttwS",
        "outputId": "0607c3ac-63f4-4f29-bc00-2f795b6548c2"
      },
      "source": [
        "vol_values.columns = K\n",
        "vol_values.index = list(reversed(T_array))\n",
        "vol_values"
      ],
      "execution_count": null,
      "outputs": [
        {
          "output_type": "execute_result",
          "data": {
            "text/html": [
              "<div>\n",
              "<style scoped>\n",
              "    .dataframe tbody tr th:only-of-type {\n",
              "        vertical-align: middle;\n",
              "    }\n",
              "\n",
              "    .dataframe tbody tr th {\n",
              "        vertical-align: top;\n",
              "    }\n",
              "\n",
              "    .dataframe thead th {\n",
              "        text-align: right;\n",
              "    }\n",
              "</style>\n",
              "<table border=\"1\" class=\"dataframe\">\n",
              "  <thead>\n",
              "    <tr style=\"text-align: right;\">\n",
              "      <th></th>\n",
              "      <th>0.80</th>\n",
              "      <th>0.85</th>\n",
              "      <th>0.90</th>\n",
              "      <th>0.95</th>\n",
              "      <th>1.00</th>\n",
              "      <th>1.05</th>\n",
              "      <th>1.10</th>\n",
              "      <th>1.15</th>\n",
              "      <th>1.20</th>\n",
              "      <th>1.25</th>\n",
              "      <th>1.30</th>\n",
              "      <th>1.35</th>\n",
              "      <th>1.40</th>\n",
              "      <th>1.45</th>\n",
              "      <th>1.50</th>\n",
              "      <th>1.55</th>\n",
              "      <th>1.60</th>\n",
              "      <th>1.65</th>\n",
              "      <th>1.70</th>\n",
              "      <th>1.75</th>\n",
              "    </tr>\n",
              "  </thead>\n",
              "  <tbody>\n",
              "    <tr>\n",
              "      <th>1.4</th>\n",
              "      <td>0.360059</td>\n",
              "      <td>0.347189</td>\n",
              "      <td>0.334585</td>\n",
              "      <td>0.321990</td>\n",
              "      <td>0.309543</td>\n",
              "      <td>0.297175</td>\n",
              "      <td>0.284970</td>\n",
              "      <td>0.273083</td>\n",
              "      <td>0.261603</td>\n",
              "      <td>0.250791</td>\n",
              "      <td>0.240971</td>\n",
              "      <td>0.232405</td>\n",
              "      <td>0.225152</td>\n",
              "      <td>0.219072</td>\n",
              "      <td>0.215903</td>\n",
              "      <td>0.221620</td>\n",
              "      <td>0.232139</td>\n",
              "      <td>0.242983</td>\n",
              "      <td>0.253271</td>\n",
              "      <td>0.274542</td>\n",
              "    </tr>\n",
              "    <tr>\n",
              "      <th>1.3</th>\n",
              "      <td>0.358565</td>\n",
              "      <td>0.347039</td>\n",
              "      <td>0.335804</td>\n",
              "      <td>0.324734</td>\n",
              "      <td>0.313890</td>\n",
              "      <td>0.303248</td>\n",
              "      <td>0.292849</td>\n",
              "      <td>0.282765</td>\n",
              "      <td>0.273036</td>\n",
              "      <td>0.263775</td>\n",
              "      <td>0.255118</td>\n",
              "      <td>0.247210</td>\n",
              "      <td>0.240136</td>\n",
              "      <td>0.233898</td>\n",
              "      <td>0.228430</td>\n",
              "      <td>0.223594</td>\n",
              "      <td>0.220148</td>\n",
              "      <td>0.219054</td>\n",
              "      <td>0.217087</td>\n",
              "      <td>0.220137</td>\n",
              "    </tr>\n",
              "    <tr>\n",
              "      <th>1.2</th>\n",
              "      <td>0.357791</td>\n",
              "      <td>0.347384</td>\n",
              "      <td>0.337294</td>\n",
              "      <td>0.327446</td>\n",
              "      <td>0.317869</td>\n",
              "      <td>0.308545</td>\n",
              "      <td>0.299497</td>\n",
              "      <td>0.290756</td>\n",
              "      <td>0.282337</td>\n",
              "      <td>0.274290</td>\n",
              "      <td>0.266677</td>\n",
              "      <td>0.259562</td>\n",
              "      <td>0.253002</td>\n",
              "      <td>0.247015</td>\n",
              "      <td>0.241559</td>\n",
              "      <td>0.236592</td>\n",
              "      <td>0.232502</td>\n",
              "      <td>0.229200</td>\n",
              "      <td>0.226609</td>\n",
              "      <td>0.223818</td>\n",
              "    </tr>\n",
              "    <tr>\n",
              "      <th>1.1</th>\n",
              "      <td>0.357488</td>\n",
              "      <td>0.348022</td>\n",
              "      <td>0.338890</td>\n",
              "      <td>0.330036</td>\n",
              "      <td>0.321471</td>\n",
              "      <td>0.313180</td>\n",
              "      <td>0.305171</td>\n",
              "      <td>0.297455</td>\n",
              "      <td>0.290035</td>\n",
              "      <td>0.282931</td>\n",
              "      <td>0.276171</td>\n",
              "      <td>0.269786</td>\n",
              "      <td>0.263801</td>\n",
              "      <td>0.258230</td>\n",
              "      <td>0.253053</td>\n",
              "      <td>0.248243</td>\n",
              "      <td>0.243997</td>\n",
              "      <td>0.240337</td>\n",
              "      <td>0.237141</td>\n",
              "      <td>0.234120</td>\n",
              "    </tr>\n",
              "    <tr>\n",
              "      <th>1.0</th>\n",
              "      <td>0.357485</td>\n",
              "      <td>0.348819</td>\n",
              "      <td>0.340490</td>\n",
              "      <td>0.332456</td>\n",
              "      <td>0.324714</td>\n",
              "      <td>0.317249</td>\n",
              "      <td>0.310061</td>\n",
              "      <td>0.303151</td>\n",
              "      <td>0.296512</td>\n",
              "      <td>0.290152</td>\n",
              "      <td>0.284082</td>\n",
              "      <td>0.278315</td>\n",
              "      <td>0.272863</td>\n",
              "      <td>0.267728</td>\n",
              "      <td>0.262899</td>\n",
              "      <td>0.258357</td>\n",
              "      <td>0.254208</td>\n",
              "      <td>0.250489</td>\n",
              "      <td>0.247140</td>\n",
              "      <td>0.243981</td>\n",
              "    </tr>\n",
              "    <tr>\n",
              "      <th>0.9</th>\n",
              "      <td>0.357669</td>\n",
              "      <td>0.349685</td>\n",
              "      <td>0.342037</td>\n",
              "      <td>0.334686</td>\n",
              "      <td>0.327624</td>\n",
              "      <td>0.320835</td>\n",
              "      <td>0.314311</td>\n",
              "      <td>0.308049</td>\n",
              "      <td>0.302038</td>\n",
              "      <td>0.296278</td>\n",
              "      <td>0.290771</td>\n",
              "      <td>0.285521</td>\n",
              "      <td>0.280531</td>\n",
              "      <td>0.275800</td>\n",
              "      <td>0.271317</td>\n",
              "      <td>0.267067</td>\n",
              "      <td>0.263115</td>\n",
              "      <td>0.259485</td>\n",
              "      <td>0.256141</td>\n",
              "      <td>0.252985</td>\n",
              "    </tr>\n",
              "    <tr>\n",
              "      <th>0.8</th>\n",
              "      <td>0.357963</td>\n",
              "      <td>0.350567</td>\n",
              "      <td>0.343499</td>\n",
              "      <td>0.336726</td>\n",
              "      <td>0.330234</td>\n",
              "      <td>0.324006</td>\n",
              "      <td>0.318032</td>\n",
              "      <td>0.312302</td>\n",
              "      <td>0.306806</td>\n",
              "      <td>0.301539</td>\n",
              "      <td>0.296498</td>\n",
              "      <td>0.291682</td>\n",
              "      <td>0.287089</td>\n",
              "      <td>0.282716</td>\n",
              "      <td>0.278553</td>\n",
              "      <td>0.274584</td>\n",
              "      <td>0.270854</td>\n",
              "      <td>0.267377</td>\n",
              "      <td>0.264132</td>\n",
              "      <td>0.261047</td>\n",
              "    </tr>\n",
              "    <tr>\n",
              "      <th>0.7</th>\n",
              "      <td>0.358316</td>\n",
              "      <td>0.351430</td>\n",
              "      <td>0.344863</td>\n",
              "      <td>0.338584</td>\n",
              "      <td>0.332576</td>\n",
              "      <td>0.326821</td>\n",
              "      <td>0.321308</td>\n",
              "      <td>0.316026</td>\n",
              "      <td>0.310960</td>\n",
              "      <td>0.306105</td>\n",
              "      <td>0.301456</td>\n",
              "      <td>0.297007</td>\n",
              "      <td>0.292756</td>\n",
              "      <td>0.288696</td>\n",
              "      <td>0.284818</td>\n",
              "      <td>0.281110</td>\n",
              "      <td>0.277599</td>\n",
              "      <td>0.274295</td>\n",
              "      <td>0.271182</td>\n",
              "      <td>0.268211</td>\n",
              "    </tr>\n",
              "    <tr>\n",
              "      <th>0.6</th>\n",
              "      <td>0.358695</td>\n",
              "      <td>0.352256</td>\n",
              "      <td>0.346125</td>\n",
              "      <td>0.340273</td>\n",
              "      <td>0.334681</td>\n",
              "      <td>0.329331</td>\n",
              "      <td>0.324210</td>\n",
              "      <td>0.319308</td>\n",
              "      <td>0.314608</td>\n",
              "      <td>0.310103</td>\n",
              "      <td>0.305787</td>\n",
              "      <td>0.301654</td>\n",
              "      <td>0.297697</td>\n",
              "      <td>0.293912</td>\n",
              "      <td>0.290287</td>\n",
              "      <td>0.286813</td>\n",
              "      <td>0.283509</td>\n",
              "      <td>0.280378</td>\n",
              "      <td>0.277409</td>\n",
              "      <td>0.274566</td>\n",
              "    </tr>\n",
              "    <tr>\n",
              "      <th>0.5</th>\n",
              "      <td>0.359081</td>\n",
              "      <td>0.353034</td>\n",
              "      <td>0.347285</td>\n",
              "      <td>0.341806</td>\n",
              "      <td>0.336575</td>\n",
              "      <td>0.331576</td>\n",
              "      <td>0.326795</td>\n",
              "      <td>0.322219</td>\n",
              "      <td>0.317834</td>\n",
              "      <td>0.313631</td>\n",
              "      <td>0.309602</td>\n",
              "      <td>0.305741</td>\n",
              "      <td>0.302042</td>\n",
              "      <td>0.298497</td>\n",
              "      <td>0.295097</td>\n",
              "      <td>0.291832</td>\n",
              "      <td>0.288717</td>\n",
              "      <td>0.285753</td>\n",
              "      <td>0.282928</td>\n",
              "      <td>0.280216</td>\n",
              "    </tr>\n",
              "    <tr>\n",
              "      <th>0.4</th>\n",
              "      <td>0.359459</td>\n",
              "      <td>0.353761</td>\n",
              "      <td>0.348349</td>\n",
              "      <td>0.343198</td>\n",
              "      <td>0.338284</td>\n",
              "      <td>0.333592</td>\n",
              "      <td>0.329107</td>\n",
              "      <td>0.324816</td>\n",
              "      <td>0.320704</td>\n",
              "      <td>0.316764</td>\n",
              "      <td>0.312986</td>\n",
              "      <td>0.309363</td>\n",
              "      <td>0.305889</td>\n",
              "      <td>0.302556</td>\n",
              "      <td>0.299356</td>\n",
              "      <td>0.296279</td>\n",
              "      <td>0.293335</td>\n",
              "      <td>0.290525</td>\n",
              "      <td>0.287840</td>\n",
              "      <td>0.285255</td>\n",
              "    </tr>\n",
              "    <tr>\n",
              "      <th>0.3</th>\n",
              "      <td>0.359822</td>\n",
              "      <td>0.354435</td>\n",
              "      <td>0.349324</td>\n",
              "      <td>0.344463</td>\n",
              "      <td>0.339830</td>\n",
              "      <td>0.335408</td>\n",
              "      <td>0.331184</td>\n",
              "      <td>0.327143</td>\n",
              "      <td>0.323273</td>\n",
              "      <td>0.319563</td>\n",
              "      <td>0.316005</td>\n",
              "      <td>0.312593</td>\n",
              "      <td>0.309318</td>\n",
              "      <td>0.306173</td>\n",
              "      <td>0.303151</td>\n",
              "      <td>0.300243</td>\n",
              "      <td>0.297455</td>\n",
              "      <td>0.294788</td>\n",
              "      <td>0.292232</td>\n",
              "      <td>0.289769</td>\n",
              "    </tr>\n",
              "    <tr>\n",
              "      <th>0.2</th>\n",
              "      <td>0.360165</td>\n",
              "      <td>0.355058</td>\n",
              "      <td>0.350216</td>\n",
              "      <td>0.345615</td>\n",
              "      <td>0.341232</td>\n",
              "      <td>0.337051</td>\n",
              "      <td>0.333058</td>\n",
              "      <td>0.329240</td>\n",
              "      <td>0.325582</td>\n",
              "      <td>0.322077</td>\n",
              "      <td>0.318715</td>\n",
              "      <td>0.315489</td>\n",
              "      <td>0.312392</td>\n",
              "      <td>0.309416</td>\n",
              "      <td>0.306553</td>\n",
              "      <td>0.303796</td>\n",
              "      <td>0.301150</td>\n",
              "      <td>0.298613</td>\n",
              "      <td>0.296178</td>\n",
              "      <td>0.293828</td>\n",
              "    </tr>\n",
              "  </tbody>\n",
              "</table>\n",
              "</div>"
            ],
            "text/plain": [
              "         0.80      0.85      0.90  ...      1.65      1.70      1.75\n",
              "1.4  0.360059  0.347189  0.334585  ...  0.242983  0.253271  0.274542\n",
              "1.3  0.358565  0.347039  0.335804  ...  0.219054  0.217087  0.220137\n",
              "1.2  0.357791  0.347384  0.337294  ...  0.229200  0.226609  0.223818\n",
              "1.1  0.357488  0.348022  0.338890  ...  0.240337  0.237141  0.234120\n",
              "1.0  0.357485  0.348819  0.340490  ...  0.250489  0.247140  0.243981\n",
              "0.9  0.357669  0.349685  0.342037  ...  0.259485  0.256141  0.252985\n",
              "0.8  0.357963  0.350567  0.343499  ...  0.267377  0.264132  0.261047\n",
              "0.7  0.358316  0.351430  0.344863  ...  0.274295  0.271182  0.268211\n",
              "0.6  0.358695  0.352256  0.346125  ...  0.280378  0.277409  0.274566\n",
              "0.5  0.359081  0.353034  0.347285  ...  0.285753  0.282928  0.280216\n",
              "0.4  0.359459  0.353761  0.348349  ...  0.290525  0.287840  0.285255\n",
              "0.3  0.359822  0.354435  0.349324  ...  0.294788  0.292232  0.289769\n",
              "0.2  0.360165  0.355058  0.350216  ...  0.298613  0.296178  0.293828\n",
              "\n",
              "[13 rows x 20 columns]"
            ]
          },
          "metadata": {
            "tags": []
          },
          "execution_count": 60
        }
      ]
    },
    {
      "cell_type": "code",
      "metadata": {
        "colab": {
          "base_uri": "https://localhost:8080/",
          "height": 517
        },
        "id": "nQmpqBmIuRMH",
        "outputId": "c8b4f82f-bef6-4085-c6f3-0259951c1851"
      },
      "source": [
        "z_data = vol_values\n",
        "\n",
        "z = z_data.values.transpose()\n",
        "sh_0, sh_1 = z.shape\n",
        "x, y = T_array, K\n",
        "fig = go.Figure(data=[go.Surface(z=z, x=x, y=y)])\n",
        "fig.update_layout(title='Implied Vol surface for the WASC model', autosize=False,\n",
        "                  width=500, height=500, \n",
        "                      scene = dict(\n",
        "                    xaxis_title='Maturity',\n",
        "                    yaxis_title='Strike',\n",
        "                    zaxis_title='Implied Volatility'),\n",
        "                  margin=dict(l=65, r=50, b=65, t=90))\n",
        "fig.show()"
      ],
      "execution_count": null,
      "outputs": [
        {
          "output_type": "display_data",
          "data": {
            "text/html": [
              "<html>\n",
              "<head><meta charset=\"utf-8\" /></head>\n",
              "<body>\n",
              "    <div>\n",
              "            <script src=\"https://cdnjs.cloudflare.com/ajax/libs/mathjax/2.7.5/MathJax.js?config=TeX-AMS-MML_SVG\"></script><script type=\"text/javascript\">if (window.MathJax) {MathJax.Hub.Config({SVG: {font: \"STIX-Web\"}});}</script>\n",
              "                <script type=\"text/javascript\">window.PlotlyConfig = {MathJaxConfig: 'local'};</script>\n",
              "        <script src=\"https://cdn.plot.ly/plotly-latest.min.js\"></script>    \n",
              "            <div id=\"b52f11e2-4ed2-4a32-bc5c-be25c29ac876\" class=\"plotly-graph-div\" style=\"height:500px; width:500px;\"></div>\n",
              "            <script type=\"text/javascript\">\n",
              "                \n",
              "                    window.PLOTLYENV=window.PLOTLYENV || {};\n",
              "                    \n",
              "                if (document.getElementById(\"b52f11e2-4ed2-4a32-bc5c-be25c29ac876\")) {\n",
              "                    Plotly.newPlot(\n",
              "                        'b52f11e2-4ed2-4a32-bc5c-be25c29ac876',\n",
              "                        [{\"type\": \"surface\", \"x\": [0.2, 0.30000000000000004, 0.4000000000000001, 0.5000000000000001, 0.6000000000000001, 0.7000000000000002, 0.8000000000000003, 0.9000000000000001, 1.0000000000000002, 1.1000000000000003, 1.2000000000000004, 1.3000000000000003, 1.4000000000000004], \"y\": [0.8, 0.8500000000000001, 0.9000000000000001, 0.9500000000000002, 1.0000000000000002, 1.0500000000000003, 1.1000000000000003, 1.1500000000000004, 1.2000000000000004, 1.2500000000000004, 1.3000000000000005, 1.3500000000000005, 1.4000000000000006, 1.4500000000000006, 1.5000000000000007, 1.5500000000000007, 1.6000000000000008, 1.6500000000000008, 1.7000000000000008, 1.7500000000000009], \"z\": [[0.36005922509032984, 0.3585649910104399, 0.35779097988369574, 0.3574876874142095, 0.35748527246893164, 0.35766915112128506, 0.3579628221977051, 0.3583158519324277, 0.35869546959964427, 0.3590807338883143, 0.35945883978515564, 0.35982181167526606, 0.3601649405509868], [0.3471886865538058, 0.3470394394386375, 0.34738408302645013, 0.34802243812449013, 0.3488188059614522, 0.3496852722947923, 0.35056674935253535, 0.3514299589988152, 0.352255799124072, 0.3530343057135607, 0.35376114644355694, 0.3544354457773267, 0.3550582891342764], [0.33458543918228184, 0.3358035341690876, 0.3372941074301912, 0.33888971760421094, 0.34048983378870756, 0.3420368640955243, 0.3434991586378146, 0.3448631221078912, 0.34612452992327797, 0.34728503017256634, 0.3483493761423881, 0.349324064508623, 0.35021645888093356], [0.3219900456620652, 0.3247336706246818, 0.32744639186019053, 0.3300362235018706, 0.3324556162334352, 0.3346861446699212, 0.336726448361409, 0.3385844629492625, 0.34027271977531226, 0.34180555212578784, 0.34319759446165826, 0.3444630679896228, 0.3456152168785198], [0.30954297134606995, 0.3138899258619371, 0.3178686476939459, 0.32147135688932477, 0.32471403075666117, 0.3276243763811899, 0.3302344034941561, 0.3325763439932972, 0.33468061481179945, 0.33657492880756235, 0.3382841192708314, 0.33983014542901385, 0.34123242420100647], [0.2971747806532443, 0.30324754179930935, 0.30854498383399537, 0.31318019712629386, 0.31724933221384877, 0.3208345863552819, 0.3240055982464452, 0.326821093756626, 0.3293305251999535, 0.3315755924287282, 0.33359154091134086, 0.3354081742041549, 0.33705074496062387], [0.28497033804059874, 0.29284929677215493, 0.2994969183298867, 0.30517101055140194, 0.31006146035516846, 0.31431146451817904, 0.31803152970250265, 0.32130804124630935, 0.32421049567175464, 0.3267948203735214, 0.32910674332160983, 0.3311839723257611, 0.33305787058409153], [0.27308344181710165, 0.2827652222530827, 0.29075577180225504, 0.29745537290937746, 0.30315105760693056, 0.3080493386699782, 0.312302445134335, 0.31602551519033795, 0.31930761517432515, 0.32221894629967046, 0.3248158937591659, 0.3271434790311663, 0.32923953575510573], [0.2616029769183611, 0.2730364453087023, 0.2823370372584161, 0.29003494368797933, 0.2965120567491775, 0.3020379827407003, 0.30680622884112263, 0.310959953778972, 0.3146077398927068, 0.31783373208850446, 0.32070433820330063, 0.3232727937075301, 0.3255823475503315], [0.2507907865886844, 0.26377485233676207, 0.2742900771778477, 0.2829307762703316, 0.2901520978028927, 0.2962778105824794, 0.30153886909926436, 0.30610498728419755, 0.3101031079747746, 0.31363062452473994, 0.31676370277698396, 0.31956290286106753, 0.32207706284401705], [0.24097129832871514, 0.2551178579552528, 0.2666768910836724, 0.2761710016229193, 0.28408233242556297, 0.2907707785763459, 0.296497893975597, 0.3014556571247936, 0.305787104622061, 0.309602085594799, 0.3129857379364644, 0.3160054310722564, 0.31871523461770934], [0.23240520947162677, 0.24721024605232172, 0.25956202598900435, 0.26978587041337926, 0.2783152885369467, 0.2855208142232998, 0.29168191092167606, 0.2970072141881393, 0.30165367745403865, 0.3057413996012104, 0.30936314225995093, 0.31259278027593623, 0.3154891404762697], [0.22515154499426893, 0.24013649907309895, 0.25300222151410273, 0.2638010201148813, 0.27286276004347826, 0.2805308072742747, 0.2870893134473448, 0.29275596992947184, 0.29769735851083157, 0.3020416881959191, 0.30588886169282725, 0.3093179550680965, 0.3123916624230317], [0.2190719197722928, 0.23389765003362784, 0.2470148300600319, 0.2582300638266976, 0.2677277241296101, 0.2758003653521565, 0.2827163082090945, 0.28869625096443124, 0.29391165905265154, 0.29849651684084383, 0.3025559750591057, 0.30617338323581866, 0.30941554750318095], [0.2159032036035809, 0.22843025028108263, 0.24155949869171367, 0.25305281065977137, 0.2628986702858872, 0.2713169758372, 0.27855297800370576, 0.2848182099768411, 0.2902871014933595, 0.29509664895090776, 0.29935575296256883, 0.3031512851584243, 0.3065531255969876], [0.2216198677235932, 0.22359383915592967, 0.2365916762897718, 0.2482428905430415, 0.2583567411580093, 0.26706658830599916, 0.2745844783582291, 0.2811104606957212, 0.2868130356638895, 0.29183226080005237, 0.29627909464750335, 0.3002430149715651, 0.30379639557451144], [0.23213907985920526, 0.22014798631813476, 0.2325022143660557, 0.24399704214524545, 0.2542075172508156, 0.2631148612781086, 0.27085430760554713, 0.2775991080448519, 0.2835087675069031, 0.28871659422679463, 0.2933353315623541, 0.29745522180001066, 0.30115010499595235], [0.24298301280939089, 0.2190535963701307, 0.2292003998094887, 0.2403368183683905, 0.25048925599056066, 0.2594846269893143, 0.2673772094180573, 0.27429508751884946, 0.2803779162986776, 0.28575270171542594, 0.29052548359870306, 0.2947877102319204, 0.2986132677885518], [0.25327071239871424, 0.21708736642436044, 0.22660941166349552, 0.23714125937757471, 0.24714048325167273, 0.25614086863251273, 0.26413187899293405, 0.27118151259164275, 0.27740933194504613, 0.28292800590952366, 0.28784036936420165, 0.2922320256520392, 0.29617814505696743], [0.27454240793357876, 0.22013699203080436, 0.22381837681732725, 0.23412043224721873, 0.24398094130399184, 0.25298477119630214, 0.2610466345457826, 0.26821110297444617, 0.2745663981739573, 0.28021605166631713, 0.28525527748776514, 0.2897692342321927, 0.29382836677338015]]}],\n",
              "                        {\"autosize\": false, \"height\": 500, \"margin\": {\"b\": 65, \"l\": 65, \"r\": 50, \"t\": 90}, \"scene\": {\"xaxis\": {\"title\": {\"text\": \"Maturity\"}}, \"yaxis\": {\"title\": {\"text\": \"Strike\"}}, \"zaxis\": {\"title\": {\"text\": \"Implied Volatility\"}}}, \"template\": {\"data\": {\"bar\": [{\"error_x\": {\"color\": \"#2a3f5f\"}, \"error_y\": {\"color\": \"#2a3f5f\"}, \"marker\": {\"line\": {\"color\": \"#E5ECF6\", \"width\": 0.5}}, \"type\": \"bar\"}], \"barpolar\": [{\"marker\": {\"line\": {\"color\": \"#E5ECF6\", \"width\": 0.5}}, \"type\": \"barpolar\"}], \"carpet\": [{\"aaxis\": {\"endlinecolor\": \"#2a3f5f\", \"gridcolor\": \"white\", \"linecolor\": \"white\", \"minorgridcolor\": \"white\", \"startlinecolor\": \"#2a3f5f\"}, \"baxis\": {\"endlinecolor\": \"#2a3f5f\", \"gridcolor\": \"white\", \"linecolor\": \"white\", \"minorgridcolor\": \"white\", \"startlinecolor\": \"#2a3f5f\"}, \"type\": \"carpet\"}], \"choropleth\": [{\"colorbar\": {\"outlinewidth\": 0, \"ticks\": \"\"}, \"type\": \"choropleth\"}], \"contour\": [{\"colorbar\": {\"outlinewidth\": 0, \"ticks\": \"\"}, \"colorscale\": [[0.0, \"#0d0887\"], [0.1111111111111111, \"#46039f\"], [0.2222222222222222, \"#7201a8\"], [0.3333333333333333, \"#9c179e\"], [0.4444444444444444, \"#bd3786\"], [0.5555555555555556, \"#d8576b\"], [0.6666666666666666, \"#ed7953\"], [0.7777777777777778, \"#fb9f3a\"], [0.8888888888888888, \"#fdca26\"], [1.0, \"#f0f921\"]], \"type\": \"contour\"}], \"contourcarpet\": [{\"colorbar\": {\"outlinewidth\": 0, \"ticks\": \"\"}, \"type\": \"contourcarpet\"}], \"heatmap\": [{\"colorbar\": {\"outlinewidth\": 0, \"ticks\": \"\"}, \"colorscale\": [[0.0, \"#0d0887\"], [0.1111111111111111, \"#46039f\"], [0.2222222222222222, \"#7201a8\"], [0.3333333333333333, \"#9c179e\"], [0.4444444444444444, \"#bd3786\"], [0.5555555555555556, \"#d8576b\"], [0.6666666666666666, \"#ed7953\"], [0.7777777777777778, \"#fb9f3a\"], [0.8888888888888888, \"#fdca26\"], [1.0, \"#f0f921\"]], \"type\": \"heatmap\"}], \"heatmapgl\": [{\"colorbar\": {\"outlinewidth\": 0, \"ticks\": \"\"}, \"colorscale\": [[0.0, \"#0d0887\"], [0.1111111111111111, \"#46039f\"], [0.2222222222222222, \"#7201a8\"], [0.3333333333333333, \"#9c179e\"], [0.4444444444444444, \"#bd3786\"], [0.5555555555555556, \"#d8576b\"], [0.6666666666666666, \"#ed7953\"], [0.7777777777777778, \"#fb9f3a\"], [0.8888888888888888, \"#fdca26\"], [1.0, \"#f0f921\"]], \"type\": \"heatmapgl\"}], \"histogram\": [{\"marker\": {\"colorbar\": {\"outlinewidth\": 0, \"ticks\": \"\"}}, \"type\": \"histogram\"}], \"histogram2d\": [{\"colorbar\": {\"outlinewidth\": 0, \"ticks\": \"\"}, \"colorscale\": [[0.0, \"#0d0887\"], [0.1111111111111111, \"#46039f\"], [0.2222222222222222, \"#7201a8\"], [0.3333333333333333, \"#9c179e\"], [0.4444444444444444, \"#bd3786\"], [0.5555555555555556, \"#d8576b\"], [0.6666666666666666, \"#ed7953\"], [0.7777777777777778, \"#fb9f3a\"], [0.8888888888888888, \"#fdca26\"], [1.0, \"#f0f921\"]], \"type\": \"histogram2d\"}], \"histogram2dcontour\": [{\"colorbar\": {\"outlinewidth\": 0, \"ticks\": \"\"}, \"colorscale\": [[0.0, \"#0d0887\"], [0.1111111111111111, \"#46039f\"], [0.2222222222222222, \"#7201a8\"], [0.3333333333333333, \"#9c179e\"], [0.4444444444444444, \"#bd3786\"], [0.5555555555555556, \"#d8576b\"], [0.6666666666666666, \"#ed7953\"], [0.7777777777777778, \"#fb9f3a\"], [0.8888888888888888, \"#fdca26\"], [1.0, \"#f0f921\"]], \"type\": \"histogram2dcontour\"}], \"mesh3d\": [{\"colorbar\": {\"outlinewidth\": 0, \"ticks\": \"\"}, \"type\": \"mesh3d\"}], \"parcoords\": [{\"line\": {\"colorbar\": {\"outlinewidth\": 0, \"ticks\": \"\"}}, \"type\": \"parcoords\"}], \"pie\": [{\"automargin\": true, \"type\": \"pie\"}], \"scatter\": [{\"marker\": {\"colorbar\": {\"outlinewidth\": 0, \"ticks\": \"\"}}, \"type\": \"scatter\"}], \"scatter3d\": [{\"line\": {\"colorbar\": {\"outlinewidth\": 0, \"ticks\": \"\"}}, \"marker\": {\"colorbar\": {\"outlinewidth\": 0, \"ticks\": \"\"}}, \"type\": \"scatter3d\"}], \"scattercarpet\": [{\"marker\": {\"colorbar\": {\"outlinewidth\": 0, \"ticks\": \"\"}}, \"type\": \"scattercarpet\"}], \"scattergeo\": [{\"marker\": {\"colorbar\": {\"outlinewidth\": 0, \"ticks\": \"\"}}, \"type\": \"scattergeo\"}], \"scattergl\": [{\"marker\": {\"colorbar\": {\"outlinewidth\": 0, \"ticks\": \"\"}}, \"type\": \"scattergl\"}], \"scattermapbox\": [{\"marker\": {\"colorbar\": {\"outlinewidth\": 0, \"ticks\": \"\"}}, \"type\": \"scattermapbox\"}], \"scatterpolar\": [{\"marker\": {\"colorbar\": {\"outlinewidth\": 0, \"ticks\": \"\"}}, \"type\": \"scatterpolar\"}], \"scatterpolargl\": [{\"marker\": {\"colorbar\": {\"outlinewidth\": 0, \"ticks\": \"\"}}, \"type\": \"scatterpolargl\"}], \"scatterternary\": [{\"marker\": {\"colorbar\": {\"outlinewidth\": 0, \"ticks\": \"\"}}, \"type\": \"scatterternary\"}], \"surface\": [{\"colorbar\": {\"outlinewidth\": 0, \"ticks\": \"\"}, \"colorscale\": [[0.0, \"#0d0887\"], [0.1111111111111111, \"#46039f\"], [0.2222222222222222, \"#7201a8\"], [0.3333333333333333, \"#9c179e\"], [0.4444444444444444, \"#bd3786\"], [0.5555555555555556, \"#d8576b\"], [0.6666666666666666, \"#ed7953\"], [0.7777777777777778, \"#fb9f3a\"], [0.8888888888888888, \"#fdca26\"], [1.0, \"#f0f921\"]], \"type\": \"surface\"}], \"table\": [{\"cells\": {\"fill\": {\"color\": \"#EBF0F8\"}, \"line\": {\"color\": \"white\"}}, \"header\": {\"fill\": {\"color\": \"#C8D4E3\"}, \"line\": {\"color\": \"white\"}}, \"type\": \"table\"}]}, \"layout\": {\"annotationdefaults\": {\"arrowcolor\": \"#2a3f5f\", \"arrowhead\": 0, \"arrowwidth\": 1}, \"coloraxis\": {\"colorbar\": {\"outlinewidth\": 0, \"ticks\": \"\"}}, \"colorscale\": {\"diverging\": [[0, \"#8e0152\"], [0.1, \"#c51b7d\"], [0.2, \"#de77ae\"], [0.3, \"#f1b6da\"], [0.4, \"#fde0ef\"], [0.5, \"#f7f7f7\"], [0.6, \"#e6f5d0\"], [0.7, \"#b8e186\"], [0.8, \"#7fbc41\"], [0.9, \"#4d9221\"], [1, \"#276419\"]], \"sequential\": [[0.0, \"#0d0887\"], [0.1111111111111111, \"#46039f\"], [0.2222222222222222, \"#7201a8\"], [0.3333333333333333, \"#9c179e\"], [0.4444444444444444, \"#bd3786\"], [0.5555555555555556, \"#d8576b\"], [0.6666666666666666, \"#ed7953\"], [0.7777777777777778, \"#fb9f3a\"], [0.8888888888888888, \"#fdca26\"], [1.0, \"#f0f921\"]], \"sequentialminus\": [[0.0, \"#0d0887\"], [0.1111111111111111, \"#46039f\"], [0.2222222222222222, \"#7201a8\"], [0.3333333333333333, \"#9c179e\"], [0.4444444444444444, \"#bd3786\"], [0.5555555555555556, \"#d8576b\"], [0.6666666666666666, \"#ed7953\"], [0.7777777777777778, \"#fb9f3a\"], [0.8888888888888888, \"#fdca26\"], [1.0, \"#f0f921\"]]}, \"colorway\": [\"#636efa\", \"#EF553B\", \"#00cc96\", \"#ab63fa\", \"#FFA15A\", \"#19d3f3\", \"#FF6692\", \"#B6E880\", \"#FF97FF\", \"#FECB52\"], \"font\": {\"color\": \"#2a3f5f\"}, \"geo\": {\"bgcolor\": \"white\", \"lakecolor\": \"white\", \"landcolor\": \"#E5ECF6\", \"showlakes\": true, \"showland\": true, \"subunitcolor\": \"white\"}, \"hoverlabel\": {\"align\": \"left\"}, \"hovermode\": \"closest\", \"mapbox\": {\"style\": \"light\"}, \"paper_bgcolor\": \"white\", \"plot_bgcolor\": \"#E5ECF6\", \"polar\": {\"angularaxis\": {\"gridcolor\": \"white\", \"linecolor\": \"white\", \"ticks\": \"\"}, \"bgcolor\": \"#E5ECF6\", \"radialaxis\": {\"gridcolor\": \"white\", \"linecolor\": \"white\", \"ticks\": \"\"}}, \"scene\": {\"xaxis\": {\"backgroundcolor\": \"#E5ECF6\", \"gridcolor\": \"white\", \"gridwidth\": 2, \"linecolor\": \"white\", \"showbackground\": true, \"ticks\": \"\", \"zerolinecolor\": \"white\"}, \"yaxis\": {\"backgroundcolor\": \"#E5ECF6\", \"gridcolor\": \"white\", \"gridwidth\": 2, \"linecolor\": \"white\", \"showbackground\": true, \"ticks\": \"\", \"zerolinecolor\": \"white\"}, \"zaxis\": {\"backgroundcolor\": \"#E5ECF6\", \"gridcolor\": \"white\", \"gridwidth\": 2, \"linecolor\": \"white\", \"showbackground\": true, \"ticks\": \"\", \"zerolinecolor\": \"white\"}}, \"shapedefaults\": {\"line\": {\"color\": \"#2a3f5f\"}}, \"ternary\": {\"aaxis\": {\"gridcolor\": \"white\", \"linecolor\": \"white\", \"ticks\": \"\"}, \"baxis\": {\"gridcolor\": \"white\", \"linecolor\": \"white\", \"ticks\": \"\"}, \"bgcolor\": \"#E5ECF6\", \"caxis\": {\"gridcolor\": \"white\", \"linecolor\": \"white\", \"ticks\": \"\"}}, \"title\": {\"x\": 0.05}, \"xaxis\": {\"automargin\": true, \"gridcolor\": \"white\", \"linecolor\": \"white\", \"ticks\": \"\", \"title\": {\"standoff\": 15}, \"zerolinecolor\": \"white\", \"zerolinewidth\": 2}, \"yaxis\": {\"automargin\": true, \"gridcolor\": \"white\", \"linecolor\": \"white\", \"ticks\": \"\", \"title\": {\"standoff\": 15}, \"zerolinecolor\": \"white\", \"zerolinewidth\": 2}}}, \"title\": {\"text\": \"Implied Vol surface for the WASC model\"}, \"width\": 500},\n",
              "                        {\"responsive\": true}\n",
              "                    ).then(function(){\n",
              "                            \n",
              "var gd = document.getElementById('b52f11e2-4ed2-4a32-bc5c-be25c29ac876');\n",
              "var x = new MutationObserver(function (mutations, observer) {{\n",
              "        var display = window.getComputedStyle(gd).display;\n",
              "        if (!display || display === 'none') {{\n",
              "            console.log([gd, 'removed!']);\n",
              "            Plotly.purge(gd);\n",
              "            observer.disconnect();\n",
              "        }}\n",
              "}});\n",
              "\n",
              "// Listen for the removal of the full notebook cells\n",
              "var notebookContainer = gd.closest('#notebook-container');\n",
              "if (notebookContainer) {{\n",
              "    x.observe(notebookContainer, {childList: true});\n",
              "}}\n",
              "\n",
              "// Listen for the clearing of the current output cell\n",
              "var outputEl = gd.closest('.output');\n",
              "if (outputEl) {{\n",
              "    x.observe(outputEl, {childList: true});\n",
              "}}\n",
              "\n",
              "                        })\n",
              "                };\n",
              "                \n",
              "            </script>\n",
              "        </div>\n",
              "</body>\n",
              "</html>"
            ]
          },
          "metadata": {
            "tags": []
          }
        }
      ]
    },
    {
      "cell_type": "code",
      "metadata": {
        "colab": {
          "base_uri": "https://localhost:8080/"
        },
        "id": "N4_RS3f-ugkX",
        "outputId": "0723c5fb-151f-4deb-f89b-a162902e1850"
      },
      "source": [
        "price_values_corr = []\n",
        "\n",
        "corr = np.arange(-0.75,0.85,0.1)\n",
        "\n",
        "N = 2**10\n",
        "d_u = 0.1\n",
        "alpha = 2\n",
        "maturity = 1\n",
        "\n",
        "for correlation in corr:\n",
        "  \n",
        "  print(correlation)\n",
        "  sigma = [0.09, correlation, correlation, 0.09]\n",
        "  sigma = np.array(sigma).reshape((2,2))\n",
        "\n",
        "  test = wishart(r = r, beta = beta, M = M, Q = Q, sigma = sigma, rho = rho, maturity=maturity, Y=Y)\n",
        "  fft_pricer_ = test.fft_pricer(N, d_u, alpha, q, 2)\n",
        "  option_price = fft_pricer_(1)\n",
        "  price_values_corr += [option_price]"
      ],
      "execution_count": null,
      "outputs": [
        {
          "output_type": "stream",
          "text": [
            "-0.75\n",
            "-0.65\n",
            "-0.55\n",
            "-0.45000000000000007\n",
            "-0.3500000000000001\n",
            "-0.2500000000000001\n",
            "-0.15000000000000013\n",
            "-0.050000000000000155\n",
            "0.04999999999999982\n",
            "0.1499999999999998\n",
            "0.24999999999999978\n",
            "0.34999999999999964\n",
            "0.44999999999999973\n",
            "0.5499999999999998\n",
            "0.6499999999999997\n",
            "0.7499999999999996\n"
          ],
          "name": "stdout"
        }
      ]
    },
    {
      "cell_type": "code",
      "metadata": {
        "colab": {
          "base_uri": "https://localhost:8080/",
          "height": 318
        },
        "id": "pqRWIZ4UvDmo",
        "outputId": "0ae7d519-ac81-4645-af0b-5dc9e3b7b76b"
      },
      "source": [
        "plt.plot(corr, price_values_corr)\n",
        "plt.title('Evolution of price as function of correlation between assets')\n",
        "plt.xlabel('Correlation')\n",
        "plt.ylabel('Price')"
      ],
      "execution_count": null,
      "outputs": [
        {
          "output_type": "execute_result",
          "data": {
            "text/plain": [
              "Text(0, 0.5, 'Price')"
            ]
          },
          "metadata": {
            "tags": []
          },
          "execution_count": 21
        },
        {
          "output_type": "display_data",
          "data": {
            "image/png": "[encoded data removed]",
            "text/plain": [
              "<Figure size 432x288 with 1 Axes>"
            ]
          },
          "metadata": {
            "tags": []
          }
        }
      ]
    },
    {
      "cell_type": "code",
      "metadata": {
        "id": "UJ12e-le4VhR"
      },
      "source": [
        "corr = np.arange(-0.75,0.9,0.15)\n",
        "\n",
        "price_values_corr_mat = pd.DataFrame([])\n",
        "\n",
        "for correlation in corr:\n",
        "  current_corr1 = []\n",
        "  for correlation2 in corr: \n",
        "    rho = np.array([correlation, correlation2]).reshape((2,1))\n",
        "    test = wishart(r = r, beta = beta, M = M, Q = Q, sigma = sigma, rho = rho, maturity=maturity, Y=Y)\n",
        "    fft_pricer_ = test.fft_pricer(N, d_u, alpha, q, 2)\n",
        "    option_price = fft_pricer_(1)\n",
        "    current_corr1 += [option_price]\n",
        "  current_corr1 = pd.DataFrame([current_corr1])\n",
        "  price_values_corr_mat = pd.concat([price_values_corr_mat,current_corr1])"
      ],
      "execution_count": null,
      "outputs": []
    },
    {
      "cell_type": "code",
      "metadata": {
        "colab": {
          "base_uri": "https://localhost:8080/",
          "height": 517
        },
        "id": "5wLzsUix55dr",
        "outputId": "23226444-c953-4be5-c706-c73524102c03"
      },
      "source": [
        "z_data = price_values_corr_mat\n",
        "\n",
        "z = z_data.values\n",
        "x, y = corr, corr\n",
        "fig = go.Figure(data=[go.Surface(z=z, x=x, y=y)])\n",
        "fig.update_layout(title=' Asset 1 price as function of Rho', autosize=False,\n",
        "                  width=500, height=500, \n",
        "                      scene = dict(\n",
        "                    xaxis_title='rho for asset 1',\n",
        "                    yaxis_title='rho for asset 2',\n",
        "                    zaxis_title='Price'),\n",
        "                  margin=dict(l=65, r=50, b=65, t=90))\n",
        "fig.show()"
      ],
      "execution_count": null,
      "outputs": [
        {
          "output_type": "display_data",
          "data": {
            "text/html": [
              "<html>\n",
              "<head><meta charset=\"utf-8\" /></head>\n",
              "<body>\n",
              "    <div>\n",
              "            <script src=\"https://cdnjs.cloudflare.com/ajax/libs/mathjax/2.7.5/MathJax.js?config=TeX-AMS-MML_SVG\"></script><script type=\"text/javascript\">if (window.MathJax) {MathJax.Hub.Config({SVG: {font: \"STIX-Web\"}});}</script>\n",
              "                <script type=\"text/javascript\">window.PlotlyConfig = {MathJaxConfig: 'local'};</script>\n",
              "        <script src=\"https://cdn.plot.ly/plotly-latest.min.js\"></script>    \n",
              "            <div id=\"2d0b4293-8ea2-4286-a291-2bef369cf791\" class=\"plotly-graph-div\" style=\"height:500px; width:500px;\"></div>\n",
              "            <script type=\"text/javascript\">\n",
              "                \n",
              "                    window.PLOTLYENV=window.PLOTLYENV || {};\n",
              "                    \n",
              "                if (document.getElementById(\"2d0b4293-8ea2-4286-a291-2bef369cf791\")) {\n",
              "                    Plotly.newPlot(\n",
              "                        '2d0b4293-8ea2-4286-a291-2bef369cf791',\n",
              "                        [{\"type\": \"surface\", \"x\": [-0.75, -0.6, -0.44999999999999996, -0.29999999999999993, -0.1499999999999999, 1.1102230246251565e-16, 0.15000000000000013, 0.30000000000000027, 0.4500000000000002, 0.6000000000000001, 0.7500000000000002], \"y\": [-0.75, -0.6, -0.44999999999999996, -0.29999999999999993, -0.1499999999999999, 1.1102230246251565e-16, 0.15000000000000013, 0.30000000000000027, 0.4500000000000002, 0.6000000000000001, 0.7500000000000002], \"z\": [[0.03459176849154391, 0.034583223144276816, 0.03453121528710631, 0.03447055984111109, 0.03440822476359455, 0.0343436413090069, 0.034277464878174034, 0.03421035220899259, 0.03414294850802868, 0.034075884747270926, 0.03400977516340484], [0.03432294422256106, 0.03431004405861598, 0.034272932431198985, 0.03423649975169664, 0.03420136463873858, 0.0341677132900293, 0.03413614908352995, 0.03410725131916413, 0.034081574040225014, 0.03405964469948666, 0.03404196294312279], [0.03428140254014232, 0.03429434555675107, 0.03430063927105184, 0.0343118060715087, 0.034327142088788176, 0.03434712990370381, 0.03437224508584785, 0.03440293213413659, 0.03443960383162483, 0.03448264063599605, 0.03453239010207228], [0.03461865949871134, 0.03468574745159157, 0.03475685869115748, 0.034834494614652455, 0.0349187448837404, 0.03500996528754807, 0.03510847746707616, 0.035214568646419996, 0.035328491322914046, 0.03545046293994898, 0.035580665541710924], [0.03545892952191871, 0.03560065594410263, 0.035750156970315014, 0.035907593952588135, 0.03607318639381624, 0.03624712769827791, 0.036429575286978495, 0.03662065041168538, 0.036820437924107254, 0.03702898600090039, 0.037246305824847566], [0.03688748273543948, 0.03711449142338176, 0.037350106504947474, 0.03759439473384313, 0.037847417879905615, 0.03810920063445899, 0.038379730455444974, 0.038658957356737376, 0.03894679364289321, 0.039243113590269586, 0.039547753075348274], [0.038947431483249965, 0.039262248179687015, 0.03958558016105382, 0.039917352952256624, 0.040257454379720434, 0.04060573409150888, 0.040962003348425764, 0.041326034765743834, 0.041697562007674896, 0.042076279436790265, 0.0424618417210928], [0.04163941644936813, 0.04203811501092409, 0.04244425955313274, 0.04285759480413634, 0.04327782647135064, 0.04370462107983012, 0.04413760578741579, 0.0445763681824114, 0.045020456070259104, 0.0454693772568153, 0.04592259933774798], [0.04492239703324077, 0.045394373663394175, 0.04587166136559744, 0.046353814642088154, 0.04684034860016591, 0.04733073902900472, 0.047824422530443646, 0.04832079672082818, 0.048819220523701586, 0.0493190145767398, 0.04981946762041391], [0.048712171582434585, 0.049239788556673714, 0.04976945957929274, 0.050300545859088455, 0.050832371663273694, 0.05136422531309378, 0.0518953604262755, 0.052424997450609696, 0.052952325538494646, 0.05347650344890834, 0.05400334224275007], [0.05287974153354109, 0.05343817209908589, 0.05399430223237225, 0.05454732564917521, 0.055096410746059324, 0.055640704216644424, 0.05617933532088895, 0.056711420871989014, 0.05723606822951719, 0.05775717905708471, 0.058294573669692706]]}],\n",
              "                        {\"autosize\": false, \"height\": 500, \"margin\": {\"b\": 65, \"l\": 65, \"r\": 50, \"t\": 90}, \"scene\": {\"xaxis\": {\"title\": {\"text\": \"Correlation\"}}, \"yaxis\": {\"title\": {\"text\": \"Maturity\"}}, \"zaxis\": {\"title\": {\"text\": \"Implied Volatility\"}}}, \"template\": {\"data\": {\"bar\": [{\"error_x\": {\"color\": \"#2a3f5f\"}, \"error_y\": {\"color\": \"#2a3f5f\"}, \"marker\": {\"line\": {\"color\": \"#E5ECF6\", \"width\": 0.5}}, \"type\": \"bar\"}], \"barpolar\": [{\"marker\": {\"line\": {\"color\": \"#E5ECF6\", \"width\": 0.5}}, \"type\": \"barpolar\"}], \"carpet\": [{\"aaxis\": {\"endlinecolor\": \"#2a3f5f\", \"gridcolor\": \"white\", \"linecolor\": \"white\", \"minorgridcolor\": \"white\", \"startlinecolor\": \"#2a3f5f\"}, \"baxis\": {\"endlinecolor\": \"#2a3f5f\", \"gridcolor\": \"white\", \"linecolor\": \"white\", \"minorgridcolor\": \"white\", \"startlinecolor\": \"#2a3f5f\"}, \"type\": \"carpet\"}], \"choropleth\": [{\"colorbar\": {\"outlinewidth\": 0, \"ticks\": \"\"}, \"type\": \"choropleth\"}], \"contour\": [{\"colorbar\": {\"outlinewidth\": 0, \"ticks\": \"\"}, \"colorscale\": [[0.0, \"#0d0887\"], [0.1111111111111111, \"#46039f\"], [0.2222222222222222, \"#7201a8\"], [0.3333333333333333, \"#9c179e\"], [0.4444444444444444, \"#bd3786\"], [0.5555555555555556, \"#d8576b\"], [0.6666666666666666, \"#ed7953\"], [0.7777777777777778, \"#fb9f3a\"], [0.8888888888888888, \"#fdca26\"], [1.0, \"#f0f921\"]], \"type\": \"contour\"}], \"contourcarpet\": [{\"colorbar\": {\"outlinewidth\": 0, \"ticks\": \"\"}, \"type\": \"contourcarpet\"}], \"heatmap\": [{\"colorbar\": {\"outlinewidth\": 0, \"ticks\": \"\"}, \"colorscale\": [[0.0, \"#0d0887\"], [0.1111111111111111, \"#46039f\"], [0.2222222222222222, \"#7201a8\"], [0.3333333333333333, \"#9c179e\"], [0.4444444444444444, \"#bd3786\"], [0.5555555555555556, \"#d8576b\"], [0.6666666666666666, \"#ed7953\"], [0.7777777777777778, \"#fb9f3a\"], [0.8888888888888888, \"#fdca26\"], [1.0, \"#f0f921\"]], \"type\": \"heatmap\"}], \"heatmapgl\": [{\"colorbar\": {\"outlinewidth\": 0, \"ticks\": \"\"}, \"colorscale\": [[0.0, \"#0d0887\"], [0.1111111111111111, \"#46039f\"], [0.2222222222222222, \"#7201a8\"], [0.3333333333333333, \"#9c179e\"], [0.4444444444444444, \"#bd3786\"], [0.5555555555555556, \"#d8576b\"], [0.6666666666666666, \"#ed7953\"], [0.7777777777777778, \"#fb9f3a\"], [0.8888888888888888, \"#fdca26\"], [1.0, \"#f0f921\"]], \"type\": \"heatmapgl\"}], \"histogram\": [{\"marker\": {\"colorbar\": {\"outlinewidth\": 0, \"ticks\": \"\"}}, \"type\": \"histogram\"}], \"histogram2d\": [{\"colorbar\": {\"outlinewidth\": 0, \"ticks\": \"\"}, \"colorscale\": [[0.0, \"#0d0887\"], [0.1111111111111111, \"#46039f\"], [0.2222222222222222, \"#7201a8\"], [0.3333333333333333, \"#9c179e\"], [0.4444444444444444, \"#bd3786\"], [0.5555555555555556, \"#d8576b\"], [0.6666666666666666, \"#ed7953\"], [0.7777777777777778, \"#fb9f3a\"], [0.8888888888888888, \"#fdca26\"], [1.0, \"#f0f921\"]], \"type\": \"histogram2d\"}], \"histogram2dcontour\": [{\"colorbar\": {\"outlinewidth\": 0, \"ticks\": \"\"}, \"colorscale\": [[0.0, \"#0d0887\"], [0.1111111111111111, \"#46039f\"], [0.2222222222222222, \"#7201a8\"], [0.3333333333333333, \"#9c179e\"], [0.4444444444444444, \"#bd3786\"], [0.5555555555555556, \"#d8576b\"], [0.6666666666666666, \"#ed7953\"], [0.7777777777777778, \"#fb9f3a\"], [0.8888888888888888, \"#fdca26\"], [1.0, \"#f0f921\"]], \"type\": \"histogram2dcontour\"}], \"mesh3d\": [{\"colorbar\": {\"outlinewidth\": 0, \"ticks\": \"\"}, \"type\": \"mesh3d\"}], \"parcoords\": [{\"line\": {\"colorbar\": {\"outlinewidth\": 0, \"ticks\": \"\"}}, \"type\": \"parcoords\"}], \"pie\": [{\"automargin\": true, \"type\": \"pie\"}], \"scatter\": [{\"marker\": {\"colorbar\": {\"outlinewidth\": 0, \"ticks\": \"\"}}, \"type\": \"scatter\"}], \"scatter3d\": [{\"line\": {\"colorbar\": {\"outlinewidth\": 0, \"ticks\": \"\"}}, \"marker\": {\"colorbar\": {\"outlinewidth\": 0, \"ticks\": \"\"}}, \"type\": \"scatter3d\"}], \"scattercarpet\": [{\"marker\": {\"colorbar\": {\"outlinewidth\": 0, \"ticks\": \"\"}}, \"type\": \"scattercarpet\"}], \"scattergeo\": [{\"marker\": {\"colorbar\": {\"outlinewidth\": 0, \"ticks\": \"\"}}, \"type\": \"scattergeo\"}], \"scattergl\": [{\"marker\": {\"colorbar\": {\"outlinewidth\": 0, \"ticks\": \"\"}}, \"type\": \"scattergl\"}], \"scattermapbox\": [{\"marker\": {\"colorbar\": {\"outlinewidth\": 0, \"ticks\": \"\"}}, \"type\": \"scattermapbox\"}], \"scatterpolar\": [{\"marker\": {\"colorbar\": {\"outlinewidth\": 0, \"ticks\": \"\"}}, \"type\": \"scatterpolar\"}], \"scatterpolargl\": [{\"marker\": {\"colorbar\": {\"outlinewidth\": 0, \"ticks\": \"\"}}, \"type\": \"scatterpolargl\"}], \"scatterternary\": [{\"marker\": {\"colorbar\": {\"outlinewidth\": 0, \"ticks\": \"\"}}, \"type\": \"scatterternary\"}], \"surface\": [{\"colorbar\": {\"outlinewidth\": 0, \"ticks\": \"\"}, \"colorscale\": [[0.0, \"#0d0887\"], [0.1111111111111111, \"#46039f\"], [0.2222222222222222, \"#7201a8\"], [0.3333333333333333, \"#9c179e\"], [0.4444444444444444, \"#bd3786\"], [0.5555555555555556, \"#d8576b\"], [0.6666666666666666, \"#ed7953\"], [0.7777777777777778, \"#fb9f3a\"], [0.8888888888888888, \"#fdca26\"], [1.0, \"#f0f921\"]], \"type\": \"surface\"}], \"table\": [{\"cells\": {\"fill\": {\"color\": \"#EBF0F8\"}, \"line\": {\"color\": \"white\"}}, \"header\": {\"fill\": {\"color\": \"#C8D4E3\"}, \"line\": {\"color\": \"white\"}}, \"type\": \"table\"}]}, \"layout\": {\"annotationdefaults\": {\"arrowcolor\": \"#2a3f5f\", \"arrowhead\": 0, \"arrowwidth\": 1}, \"coloraxis\": {\"colorbar\": {\"outlinewidth\": 0, \"ticks\": \"\"}}, \"colorscale\": {\"diverging\": [[0, \"#8e0152\"], [0.1, \"#c51b7d\"], [0.2, \"#de77ae\"], [0.3, \"#f1b6da\"], [0.4, \"#fde0ef\"], [0.5, \"#f7f7f7\"], [0.6, \"#e6f5d0\"], [0.7, \"#b8e186\"], [0.8, \"#7fbc41\"], [0.9, \"#4d9221\"], [1, \"#276419\"]], \"sequential\": [[0.0, \"#0d0887\"], [0.1111111111111111, \"#46039f\"], [0.2222222222222222, \"#7201a8\"], [0.3333333333333333, \"#9c179e\"], [0.4444444444444444, \"#bd3786\"], [0.5555555555555556, \"#d8576b\"], [0.6666666666666666, \"#ed7953\"], [0.7777777777777778, \"#fb9f3a\"], [0.8888888888888888, \"#fdca26\"], [1.0, \"#f0f921\"]], \"sequentialminus\": [[0.0, \"#0d0887\"], [0.1111111111111111, \"#46039f\"], [0.2222222222222222, \"#7201a8\"], [0.3333333333333333, \"#9c179e\"], [0.4444444444444444, \"#bd3786\"], [0.5555555555555556, \"#d8576b\"], [0.6666666666666666, \"#ed7953\"], [0.7777777777777778, \"#fb9f3a\"], [0.8888888888888888, \"#fdca26\"], [1.0, \"#f0f921\"]]}, \"colorway\": [\"#636efa\", \"#EF553B\", \"#00cc96\", \"#ab63fa\", \"#FFA15A\", \"#19d3f3\", \"#FF6692\", \"#B6E880\", \"#FF97FF\", \"#FECB52\"], \"font\": {\"color\": \"#2a3f5f\"}, \"geo\": {\"bgcolor\": \"white\", \"lakecolor\": \"white\", \"landcolor\": \"#E5ECF6\", \"showlakes\": true, \"showland\": true, \"subunitcolor\": \"white\"}, \"hoverlabel\": {\"align\": \"left\"}, \"hovermode\": \"closest\", \"mapbox\": {\"style\": \"light\"}, \"paper_bgcolor\": \"white\", \"plot_bgcolor\": \"#E5ECF6\", \"polar\": {\"angularaxis\": {\"gridcolor\": \"white\", \"linecolor\": \"white\", \"ticks\": \"\"}, \"bgcolor\": \"#E5ECF6\", \"radialaxis\": {\"gridcolor\": \"white\", \"linecolor\": \"white\", \"ticks\": \"\"}}, \"scene\": {\"xaxis\": {\"backgroundcolor\": \"#E5ECF6\", \"gridcolor\": \"white\", \"gridwidth\": 2, \"linecolor\": \"white\", \"showbackground\": true, \"ticks\": \"\", \"zerolinecolor\": \"white\"}, \"yaxis\": {\"backgroundcolor\": \"#E5ECF6\", \"gridcolor\": \"white\", \"gridwidth\": 2, \"linecolor\": \"white\", \"showbackground\": true, \"ticks\": \"\", \"zerolinecolor\": \"white\"}, \"zaxis\": {\"backgroundcolor\": \"#E5ECF6\", \"gridcolor\": \"white\", \"gridwidth\": 2, \"linecolor\": \"white\", \"showbackground\": true, \"ticks\": \"\", \"zerolinecolor\": \"white\"}}, \"shapedefaults\": {\"line\": {\"color\": \"#2a3f5f\"}}, \"ternary\": {\"aaxis\": {\"gridcolor\": \"white\", \"linecolor\": \"white\", \"ticks\": \"\"}, \"baxis\": {\"gridcolor\": \"white\", \"linecolor\": \"white\", \"ticks\": \"\"}, \"bgcolor\": \"#E5ECF6\", \"caxis\": {\"gridcolor\": \"white\", \"linecolor\": \"white\", \"ticks\": \"\"}}, \"title\": {\"x\": 0.05}, \"xaxis\": {\"automargin\": true, \"gridcolor\": \"white\", \"linecolor\": \"white\", \"ticks\": \"\", \"title\": {\"standoff\": 15}, \"zerolinecolor\": \"white\", \"zerolinewidth\": 2}, \"yaxis\": {\"automargin\": true, \"gridcolor\": \"white\", \"linecolor\": \"white\", \"ticks\": \"\", \"title\": {\"standoff\": 15}, \"zerolinecolor\": \"white\", \"zerolinewidth\": 2}}}, \"title\": {\"text\": \" Asset 1 price as function of Rho\"}, \"width\": 500},\n",
              "                        {\"responsive\": true}\n",
              "                    ).then(function(){\n",
              "                            \n",
              "var gd = document.getElementById('2d0b4293-8ea2-4286-a291-2bef369cf791');\n",
              "var x = new MutationObserver(function (mutations, observer) {{\n",
              "        var display = window.getComputedStyle(gd).display;\n",
              "        if (!display || display === 'none') {{\n",
              "            console.log([gd, 'removed!']);\n",
              "            Plotly.purge(gd);\n",
              "            observer.disconnect();\n",
              "        }}\n",
              "}});\n",
              "\n",
              "// Listen for the removal of the full notebook cells\n",
              "var notebookContainer = gd.closest('#notebook-container');\n",
              "if (notebookContainer) {{\n",
              "    x.observe(notebookContainer, {childList: true});\n",
              "}}\n",
              "\n",
              "// Listen for the clearing of the current output cell\n",
              "var outputEl = gd.closest('.output');\n",
              "if (outputEl) {{\n",
              "    x.observe(outputEl, {childList: true});\n",
              "}}\n",
              "\n",
              "                        })\n",
              "                };\n",
              "                \n",
              "            </script>\n",
              "        </div>\n",
              "</body>\n",
              "</html>"
            ]
          },
          "metadata": {
            "tags": []
          }
        }
      ]
    },
    {
      "cell_type": "code",
      "metadata": {
        "id": "2t1pANvGhUfY"
      },
      "source": [
        "from scipy.linalg import sqrtm\n",
        "import numpy as np\n",
        "M = [-2.5, -1.5, -1.5, -2.5]\n",
        "Q = [0.21, -0.14, 0.14, 0.21]\n",
        "sigma = [0.09, -0.036, -0.036, 0.09]\n",
        "\n",
        "M = np.array(M).reshape((2,2))\n",
        "Q = np.array(Q).reshape((2,2))\n",
        "sigma = np.array(sigma).reshape((2,2))\n",
        "\n",
        "r = 0\n",
        "beta = 7.14286\n",
        "rho = np.array([-0.6, -0.6]).reshape((2,1))\n",
        "gamma = np.array([-0., -0.]).reshape((2,1))\n",
        "Gamma = np.zeros((2,2))\n",
        "S_0=np.array([1,1])\n",
        "maturity = 0.2\n",
        "\n",
        "\n",
        "def MC(S_0,r,Sigma_0,maturity,M,beta,rho,Q,n,T):\n",
        "  dB=np.random.normal(size=(2,n))*np.sqrt(maturity/n)\n",
        "  dW=np.random.normal(size=(2,2,n))*np.sqrt(maturity/n)\n",
        "  dZ1=np.sqrt(1-rho[0][0]**2-rho[1][0]**2)*dB[0,:]+rho[0][0]*dW[0,0,:]+rho[1][0]*dW[0,1,:]\n",
        "  dZ2=np.sqrt(1-rho[0][0]**2-rho[1][0]**2)*dB[1,:]+rho[0][0]*dW[1,0,:]+rho[1][0]*dW[1,1,:]\n",
        "  dZ=np.array([dZ1,dZ2])\n",
        "  time=np.linspace(0,T,n)\n",
        "  S=S_0\n",
        "  vol=Sigma_0\n",
        "  for k in range(n):\n",
        "    sq=sqrtm(vol)\n",
        "    S=S*(1+r*(T/n)+np.dot(sq,dZ[:,k]))\n",
        "    vol=vol+(beta*np.dot(np.transpose(Q),Q)+np.dot(M,vol)+np.dot(vol,np.transpose(M)))*(T/n)+np.dot(np.dot(sq,dW[:,:,k]),Q)+np.dot(np.dot(np.transpose(Q),np.transpose(dW[:,:,k])),sq)\n",
        "  return(S)\n",
        "\n",
        "n=100\n",
        "#n2=100000\n",
        "n2 = 1000\n",
        "result=[]\n",
        "for k in range(n2):\n",
        "  res=MC(S_0,r,sigma,maturity,M,beta,rho,Q,n,maturity)\n",
        "  if np.all(np.isreal(res)):\n",
        "    result=result+[res]\n",
        "result=np.array(result)\n"
      ],
      "execution_count": null,
      "outputs": []
    },
    {
      "cell_type": "markdown",
      "metadata": {
        "id": "4KEiDNMHS5Ek"
      },
      "source": [
        "Comparing FFT and the MC methods"
      ]
    },
    {
      "cell_type": "code",
      "metadata": {
        "id": "cJP6TxLXkU-G",
        "colab": {
          "base_uri": "https://localhost:8080/",
          "height": 470
        },
        "outputId": "e55ccddd-439b-4199-b045-340164c95d43"
      },
      "source": [
        "Y_BS = np.array([euro_vanilla_call(1, x, 0.5, 0, 0.25) for x in X])\n",
        "Y_MC = np.array([np.mean(np.exp(-r*maturity)*(result[:,0]-strike)*(result[:,0]-strike>0)) for strike in X])\n",
        "\n",
        "figure(figsize=(8, 6), dpi=80)\n",
        "\n",
        "plt.plot(X,Y_BS, label='BS')\n",
        "plt.plot(X,Y_WASC, label='FFT')\n",
        "plt.plot(X, Y_MC, label ='MC')\n",
        "plt.title('European Call price under BS dynamics as function of the strike')\n",
        "plt.xlabel('Strike')\n",
        "plt.legend(loc=\"upper right\")\n",
        "plt.ylabel('Price')"
      ],
      "execution_count": null,
      "outputs": [
        {
          "output_type": "execute_result",
          "data": {
            "text/plain": [
              "Text(0, 0.5, 'Price')"
            ]
          },
          "metadata": {
            "tags": []
          },
          "execution_count": 65
        },
        {
          "output_type": "display_data",
          "data": {
            "image/png": "[encoded data removed]",
            "text/plain": [
              "<Figure size 640x480 with 1 Axes>"
            ]
          },
          "metadata": {
            "tags": []
          }
        }
      ]
    },
    {
      "cell_type": "code",
      "metadata": {
        "colab": {
          "base_uri": "https://localhost:8080/"
        },
        "id": "sYTiHj88iA8N",
        "outputId": "68841b33-5602-480f-9d1d-c88ddb22f1be"
      },
      "source": [
        "n2 = 1000\n",
        "maturities = np.array([0.5, 1, 1.5, 2])\n",
        "strikes = np.arange(0.85, 1.2, 0.05)\n",
        "\n",
        "N = 2**10\n",
        "d_u = 0.1\n",
        "alpha = 2\n",
        "\n",
        "desc = pd.DataFrame([])\n",
        "time_dict_MC = {}\n",
        "time_dict_FFT = {}\n",
        "\n",
        "for maturity in maturities:\n",
        "  print(maturity)\n",
        "\n",
        "  start_MC = time.time()\n",
        "  result=[]\n",
        "  for k in range(n2):\n",
        "    res=MC(S_0,r,sigma,maturity,M,beta,rho,Q,n,maturity)\n",
        "    if np.all(np.isreal(res)):\n",
        "      result=result+[res]\n",
        "  result=np.array(result)\n",
        "  prices_MC = np.array([np.mean(np.exp(-r*maturity)*(result[:,0]-strike)*(result[:,0]-strike>0)) for strike in strikes])\n",
        "  end_MC = time.time()\n",
        "  cpu_time_MC = start_MC - end_MC\n",
        "\n",
        "  errors_MC = [(1.96/np.sqrt(n2))*np.std(np.exp(-r*maturity)*(result[:,0]-strike)*(result[:,0]-strike>0)) for strike in strikes]\n",
        "  \n",
        "  start_FFT = time.time()\n",
        "  test = wishart(r = r, beta = beta, M = M, Q = Q, sigma = sigma, rho = rho, maturity=maturity, Y=Y)\n",
        "  fft_pricer__ = test.fft_pricer(N, d_u, alpha, q, 2)\n",
        "  p_fft = fft_pricer__(strikes)\n",
        "  end_FFT = time.time()\n",
        "  cpu_time_FFt = start_FFT - end_FFT\n",
        "\n",
        "  relative_error = (p_fft - prices_MC)/prices_MC\n",
        "\n",
        "  desc = pd.concat([desc, pd.DataFrame(prices_MC).rename({0: 'MC_price' + str(maturity)}, axis = 1)], axis = 1)\n",
        "  desc = pd.concat([desc, pd.DataFrame(p_fft).rename({0: 'FFT_price' + str(maturity)}, axis = 1)], axis = 1)\n",
        "  desc = pd.concat([desc, pd.DataFrame(errors_MC).rename({0: 'MC_95error' + str(maturity)}, axis = 1)], axis = 1)\n",
        "  desc = pd.concat([desc, pd.DataFrame(relative_error).rename({0: 'R_error' + str(maturity)}, axis = 1)], axis = 1)\n",
        "\n",
        "  time_dict_MC[maturity] = cpu_time_MC\n",
        "  time_dict_FFT[maturity] = cpu_time_FFt\n",
        "\n",
        "  print(desc)"
      ],
      "execution_count": null,
      "outputs": [
        {
          "output_type": "stream",
          "text": [
            "0.5\n",
            "   MC_price0.5  FFT_price0.5  MC_95error0.5  R_error0.5\n",
            "0     0.181755      0.184507       0.011116    0.015138\n",
            "1     0.146782      0.149174       0.010233    0.016297\n",
            "2     0.115953      0.117740       0.009247    0.015408\n",
            "3     0.089046      0.090491       0.008212    0.016218\n",
            "4     0.066565      0.067550       0.007149    0.014797\n",
            "5     0.048482      0.048841       0.006093    0.007415\n",
            "6     0.034277      0.034094       0.005086   -0.005342\n",
            "1.0\n",
            "   MC_price0.5  FFT_price0.5  ...  MC_95error1.0  R_error1.0\n",
            "0     0.181755      0.184507  ...       0.015500    0.036440\n",
            "1     0.146782      0.149174  ...       0.014557    0.041500\n",
            "2     0.115953      0.117740  ...       0.013559    0.045833\n",
            "3     0.089046      0.090491  ...       0.012509    0.046922\n",
            "4     0.066565      0.067550  ...       0.011467    0.051758\n",
            "5     0.048482      0.048841  ...       0.010427    0.055918\n",
            "6     0.034277      0.034094  ...       0.009412    0.059569\n",
            "\n",
            "[7 rows x 8 columns]\n",
            "1.5\n",
            "   MC_price0.5  FFT_price0.5  ...  MC_95error1.5  R_error1.5\n",
            "0     0.181755      0.184507  ...       0.018869    0.066239\n",
            "1     0.146782      0.149174  ...       0.017905    0.074565\n",
            "2     0.115953      0.117740  ...       0.016902    0.082610\n",
            "3     0.089046      0.090491  ...       0.015872    0.089664\n",
            "4     0.066565      0.067550  ...       0.014841    0.098465\n",
            "5     0.048482      0.048841  ...       0.013819    0.108528\n",
            "6     0.034277      0.034094  ...       0.012811    0.118616\n",
            "\n",
            "[7 rows x 12 columns]\n",
            "2.0\n",
            "   MC_price0.5  FFT_price0.5  ...  MC_95error2.0  R_error2.0\n",
            "0     0.181755      0.184507  ...       0.023101    0.040683\n",
            "1     0.146782      0.149174  ...       0.022142    0.044703\n",
            "2     0.115953      0.117740  ...       0.021167    0.049644\n",
            "3     0.089046      0.090491  ...       0.020172    0.053670\n",
            "4     0.066565      0.067550  ...       0.019166    0.056784\n",
            "5     0.048482      0.048841  ...       0.018175    0.061976\n",
            "6     0.034277      0.034094  ...       0.017208    0.070043\n",
            "\n",
            "[7 rows x 16 columns]\n"
          ],
          "name": "stdout"
        }
      ]
    },
    {
      "cell_type": "code",
      "metadata": {
        "colab": {
          "base_uri": "https://localhost:8080/"
        },
        "id": "oYqGMMqAE8jN",
        "outputId": "7c7b7246-0cc3-4f18-bacb-22cfad0ff6d5"
      },
      "source": [
        "time_dict_MC"
      ],
      "execution_count": null,
      "outputs": [
        {
          "output_type": "execute_result",
          "data": {
            "text/plain": [
              "{0.5: -16.2539803981781,\n",
              " 1.0: -15.758509397506714,\n",
              " 1.5: -15.832106351852417,\n",
              " 2.0: -15.473958969116211}"
            ]
          },
          "metadata": {
            "tags": []
          },
          "execution_count": 79
        }
      ]
    },
    {
      "cell_type": "code",
      "metadata": {
        "id": "-pwCs0Z7Hp3N",
        "colab": {
          "base_uri": "https://localhost:8080/"
        },
        "outputId": "372a13fe-1d60-49a1-d236-1fc2a2edb27b"
      },
      "source": [
        "time_dict_FFT"
      ],
      "execution_count": null,
      "outputs": [
        {
          "output_type": "execute_result",
          "data": {
            "text/plain": [
              "{0.5: -5.228652715682983,\n",
              " 1.0: -4.971927165985107,\n",
              " 1.5: -5.113886594772339,\n",
              " 2.0: -5.126415014266968}"
            ]
          },
          "metadata": {
            "tags": []
          },
          "execution_count": 80
        }
      ]
    },
    {
      "cell_type": "code",
      "metadata": {
        "id": "YuzAtRLx6eNc"
      },
      "source": [
        "desc = round(desc,4) \n",
        "desc.to_csv('MC_comparaison.csv')"
      ],
      "execution_count": null,
      "outputs": []
    }
  ]
}